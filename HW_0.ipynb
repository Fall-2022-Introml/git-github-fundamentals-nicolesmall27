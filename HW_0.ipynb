{
  "nbformat": 4,
  "nbformat_minor": 0,
  "metadata": {
    "colab": {
      "provenance": [],
      "collapsed_sections": []
    },
    "kernelspec": {
      "name": "python3",
      "display_name": "Python 3"
    },
    "language_info": {
      "name": "python"
    }
  },
  "cells": [
    {
      "cell_type": "code",
      "execution_count": null,
      "metadata": {
        "colab": {
          "base_uri": "https://localhost:8080/"
        },
        "id": "dOmK06i9XLqY",
        "outputId": "e280fbf7-a74b-4022-bc8b-676903de97a9"
      },
      "outputs": [
        {
          "output_type": "stream",
          "name": "stdout",
          "text": [
            "5 <class 'int'>\n",
            "5.0 <class 'float'>\n",
            "5.0 <class 'str'>\n"
          ]
        }
      ],
      "source": [
        "b = 5\n",
        "print(b, type(b))\n",
        "\n",
        "b = float(b)\n",
        "print (b, type(b))\n",
        "\n",
        "b = str(b)\n",
        "print (b, type(b))\n"
      ]
    }
  ]
}